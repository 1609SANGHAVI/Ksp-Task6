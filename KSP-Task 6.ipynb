{
 "cells": [
  {
   "cell_type": "code",
   "execution_count": 2,
   "metadata": {},
   "outputs": [
    {
     "name": "stdout",
     "output_type": "stream",
     "text": [
      "Hello! How it's going\n"
     ]
    }
   ],
   "source": [
    "#print statement\n",
    "print(\"Hello! How it's going\")"
   ]
  },
  {
   "cell_type": "code",
   "execution_count": 4,
   "metadata": {},
   "outputs": [
    {
     "name": "stdout",
     "output_type": "stream",
     "text": [
      "0\n",
      "1\n",
      "2\n",
      "3\n",
      "4\n",
      "5\n",
      "6\n",
      "7\n",
      "8\n",
      "9\n"
     ]
    }
   ],
   "source": [
    "#for loop\n",
    "for i in range(0,10):\n",
    "    print(i)"
   ]
  },
  {
   "cell_type": "code",
   "execution_count": 9,
   "metadata": {},
   "outputs": [
    {
     "name": "stdout",
     "output_type": "stream",
     "text": [
      "8\n"
     ]
    }
   ],
   "source": [
    "#if loop\n",
    "i=8\n",
    "if i%2==0:\n",
    "    print(i)"
   ]
  },
  {
   "cell_type": "code",
   "execution_count": 14,
   "metadata": {},
   "outputs": [
    {
     "name": "stdout",
     "output_type": "stream",
     "text": [
      "enter a value:20\n",
      "it's even number\n"
     ]
    }
   ],
   "source": [
    "#IF AND ELSE LOOP\n",
    "n=int(input(\"enter a value:\"))\n",
    "if n%2==0:\n",
    "    print(\"it's even number\")\n",
    "else:\n",
    "    print(\"it's odd number\")"
   ]
  },
  {
   "cell_type": "code",
   "execution_count": 26,
   "metadata": {},
   "outputs": [
    {
     "name": "stdout",
     "output_type": "stream",
     "text": [
      "enter your marks66\n",
      "you are second highest score\n"
     ]
    }
   ],
   "source": [
    "n=int(input(\"enter your marks\"))\n",
    "if n<=36:\n",
    "    print(\"you are pass\")\n",
    "elif n>36 and n<=70:\n",
    "    print(\"you are second highest score\")\n",
    "else:\n",
    "    print(\"you are first highest score\")"
   ]
  },
  {
   "cell_type": "code",
   "execution_count": 27,
   "metadata": {},
   "outputs": [
    {
     "name": "stdout",
     "output_type": "stream",
     "text": [
      "<class 'int'>\n"
     ]
    }
   ],
   "source": [
    "#datatype \n",
    "n=55\n",
    "print(type(n))"
   ]
  },
  {
   "cell_type": "code",
   "execution_count": 29,
   "metadata": {},
   "outputs": [
    {
     "name": "stdout",
     "output_type": "stream",
     "text": [
      "<class 'str'>\n"
     ]
    }
   ],
   "source": [
    "name=\"Jimin\"\n",
    "print(type(name))"
   ]
  },
  {
   "cell_type": "code",
   "execution_count": 30,
   "metadata": {},
   "outputs": [
    {
     "name": "stdout",
     "output_type": "stream",
     "text": [
      "<class 'float'>\n"
     ]
    }
   ],
   "source": [
    "p=66.5\n",
    "print(type(p))"
   ]
  },
  {
   "cell_type": "code",
   "execution_count": 31,
   "metadata": {},
   "outputs": [
    {
     "name": "stdout",
     "output_type": "stream",
     "text": [
      "<class 'str'>\n"
     ]
    }
   ],
   "source": [
    "a=88\n",
    "b=str(a)\n",
    "print(type(b))"
   ]
  },
  {
   "cell_type": "code",
   "execution_count": 35,
   "metadata": {},
   "outputs": [
    {
     "name": "stdout",
     "output_type": "stream",
     "text": [
      "<class 'int'>\n"
     ]
    }
   ],
   "source": [
    "c=55.8\n",
    "e=int(c)\n",
    "print(type(e))"
   ]
  },
  {
   "cell_type": "code",
   "execution_count": null,
   "metadata": {},
   "outputs": [],
   "source": [
    "#String Methods\n"
   ]
  },
  {
   "cell_type": "code",
   "execution_count": 42,
   "metadata": {},
   "outputs": [
    {
     "name": "stdout",
     "output_type": "stream",
     "text": [
      "10\n",
      "jimin park\n"
     ]
    }
   ],
   "source": [
    "\n",
    "#String Methods\n",
    "fname=\"Jimin Park\"\n",
    "print(len(fname))\n",
    "l=fname.casefold()\n",
    "print(l)"
   ]
  },
  {
   "cell_type": "code",
   "execution_count": 39,
   "metadata": {},
   "outputs": [
    {
     "name": "stdout",
     "output_type": "stream",
     "text": [
      "Mango\n"
     ]
    }
   ],
   "source": [
    "fruit=\"mango\"\n",
    "x=fruit.capitalize()\n",
    "print(x)"
   ]
  },
  {
   "cell_type": "code",
   "execution_count": 45,
   "metadata": {},
   "outputs": [
    {
     "name": "stdout",
     "output_type": "stream",
     "text": [
      "True\n",
      "False\n"
     ]
    }
   ],
   "source": [
    "b = \"hello 123\"\n",
    "c=b.islower()\n",
    "print(c)\n",
    "d=b.isupper()\n",
    "print(d)\n"
   ]
  },
  {
   "cell_type": "code",
   "execution_count": 44,
   "metadata": {},
   "outputs": [
    {
     "name": "stdout",
     "output_type": "stream",
     "text": [
      "1\n"
     ]
    }
   ],
   "source": [
    "txt = \"I love apples, apple are my favorite fruit\"\n",
    "\n",
    "x = txt.count(\"apple\", 10, 24)\n",
    "\n",
    "print(x)"
   ]
  },
  {
   "cell_type": "code",
   "execution_count": 52,
   "metadata": {},
   "outputs": [
    {
     "name": "stdout",
     "output_type": "stream",
     "text": [
      "hELLO, WELCOME TO MY WORLD.\n",
      "7\n"
     ]
    }
   ],
   "source": [
    "t= \"Hello, welcome to my world.\"\n",
    "\n",
    "x = t.index(\"w\")\n",
    "n=t.swapcase()\n",
    "print(n)\n",
    "print(x)"
   ]
  },
  {
   "cell_type": "code",
   "execution_count": 49,
   "metadata": {},
   "outputs": [
    {
     "name": "stdout",
     "output_type": "stream",
     "text": [
      "JohnsamPetersamVicky\n"
     ]
    }
   ],
   "source": [
    "list=(\"John\", \"Peter\", \"Vicky\")\n",
    "\n",
    "x = \"sam\".join(list)\n",
    "\n",
    "print(x)\n"
   ]
  },
  {
   "cell_type": "code",
   "execution_count": 51,
   "metadata": {},
   "outputs": [
    {
     "name": "stdout",
     "output_type": "stream",
     "text": [
      "False\n",
      "['welcome', 'to', 'the', 'jungle']\n"
     ]
    }
   ],
   "source": [
    "j = \"welcome to the jungle\"\n",
    "\n",
    "x = j.split()\n",
    "c=j.startswith(\"to\")\n",
    "print(c)\n",
    "print(x)"
   ]
  },
  {
   "cell_type": "code",
   "execution_count": 2,
   "metadata": {},
   "outputs": [
    {
     "name": "stdout",
     "output_type": "stream",
     "text": [
      "Enter your frist name: Jimin\n",
      "Enter your last name: Park\n",
      "Enter your email: jimin13@gmail.com\n",
      "Enter your age: 28\n"
     ]
    }
   ],
   "source": [
    "def form(fname,lname,email,age):\n",
    "    print(\"Enter your frist name:\",fname)\n",
    "    print(\"Enter your last name:\",lname)\n",
    "    print(\"Enter your email:\",email)\n",
    "    print(\"Enter your age:\",age)\n",
    "form(\"Jimin\",\"Park\",\"jimin13@gmail.com\",28)"
   ]
  },
  {
   "cell_type": "code",
   "execution_count": null,
   "metadata": {},
   "outputs": [],
   "source": []
  }
 ],
 "metadata": {
  "kernelspec": {
   "display_name": "Python 3",
   "language": "python",
   "name": "python3"
  },
  "language_info": {
   "codemirror_mode": {
    "name": "ipython",
    "version": 3
   },
   "file_extension": ".py",
   "mimetype": "text/x-python",
   "name": "python",
   "nbconvert_exporter": "python",
   "pygments_lexer": "ipython3",
   "version": "3.7.6"
  }
 },
 "nbformat": 4,
 "nbformat_minor": 4
}
